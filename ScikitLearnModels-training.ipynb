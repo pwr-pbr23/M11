{
  "cells": [
    {
      "attachments": {},
      "cell_type": "markdown",
      "metadata": {
        "id": "roKxezHqOdzT"
      },
      "source": [
        "Clone repo (branch random_forest or svm)\n",
        "\n"
      ]
    },
    {
      "cell_type": "code",
      "execution_count": null,
      "metadata": {
        "colab": {
          "base_uri": "https://localhost:8080/"
        },
        "id": "hqr9yEBSVPUy",
        "outputId": "7b3bc076-9406-48d5-e9df-a67e3b60e980"
      },
      "outputs": [],
      "source": [
        "!git clone -b svm https://github.com/pwr-pbr23/M11.git"
      ]
    },
    {
      "attachments": {},
      "cell_type": "markdown",
      "metadata": {
        "id": "1gDXnCaeVPU0"
      },
      "source": [
        "Download proccessed data"
      ]
    },
    {
      "cell_type": "code",
      "execution_count": null,
      "metadata": {
        "colab": {
          "base_uri": "https://localhost:8080/"
        },
        "id": "KTN5W4GqVPU1",
        "outputId": "58556ce5-e122-49a8-c69b-cab6ba7b107e"
      },
      "outputs": [],
      "source": [
        "%cd /content/M11/LineVul/linevul\n",
        "#y:\n",
        "!gdown https://drive.google.com/uc?id=1a8D8_h9y3Ri-4jHtgrJvwsb1T4AWVgPc\n",
        "#X:\n",
        "!gdown https://drive.google.com/uc?id=1YFSS7sfvCTNLxf8PUZ4FbklnybD5QkB5\n",
        "%cd ../.."
      ]
    },
    {
      "attachments": {},
      "cell_type": "markdown",
      "metadata": {
        "id": "GRvi8_t5WdKa"
      },
      "source": [
        "Train model (train_linear_svm.py or train_random_forest.py)"
      ]
    },
    {
      "cell_type": "code",
      "execution_count": null,
      "metadata": {
        "colab": {
          "base_uri": "https://localhost:8080/"
        },
        "id": "iqLti9PdQh1J",
        "outputId": "78d81855-3fbe-4551-c2d4-7434e17782e0"
      },
      "outputs": [],
      "source": [
        "%cd LineVul/linevul\n",
        "!python train_linear_svm.py\n",
        "%cd .."
      ]
    }
  ],
  "metadata": {
    "accelerator": "GPU",
    "colab": {
      "provenance": []
    },
    "gpuClass": "standard",
    "kernelspec": {
      "display_name": "Python 3",
      "name": "python3"
    },
    "language_info": {
      "name": "python"
    }
  },
  "nbformat": 4,
  "nbformat_minor": 0
}
